{
 "cells": [
  {
   "cell_type": "markdown",
   "id": "cf8d8fdf-562f-456f-8d6a-c8cde53f14d2",
   "metadata": {},
   "source": [
    "# ข้อสอบเก็บคะแนน\n",
    "## วิชาการเขียนโปรแกรมเชิงวัตถุ\n",
    "## ประจำภาคการศึกษา 2/2566\n",
    "\n",
    "### สอนโดย ผู้ช่วยศาสตราจารย์พิศาล สุขขี\n",
    "\n",
    "คำชี้แจง ข้อสอบแบ่งออกเป็น 2 ส่วน (รวม 20 คะแนน)\n",
    "\n",
    "ส่วนที่ 1 : ทดสอบความรู้ความเข้าใจพื้่นฐานการเขียนโปรแกรมภาษาไพธิน 5 ข้อ ข้อละ 2 คะแนน (รวม 10 คะแนน)\n",
    "\n",
    "ส่วนที่ 2 : ทดสอบการประยุกต์แก้ไขปัญหาโจทย์โปรแกรม 2 ข้อ ข้อละ 5 คะแนน (รวม 10 คะแนน)"
   ]
  },
  {
   "cell_type": "code",
   "execution_count": null,
   "id": "dfa3b4f7-b264-4067-9eca-0a52bcb46bf0",
   "metadata": {},
   "outputs": [],
   "source": [
    "นายศุภชัย วิเชียร 6612732130"
   ]
  },
  {
   "cell_type": "markdown",
   "id": "358450fe-fd91-4a16-8ad5-0ba911dadd5e",
   "metadata": {},
   "source": [
    "<hr>"
   ]
  },
  {
   "cell_type": "markdown",
   "id": "b2181e6a-5ade-4b0b-80ac-41e84325f9fc",
   "metadata": {},
   "source": [
    "# ส่วนที่ 1 ข้อละ 2 คะแนน"
   ]
  },
  {
   "cell_type": "markdown",
   "id": "6f8c1c6c-4fbe-4ad8-acb7-a8d25b65a450",
   "metadata": {
    "tags": []
   },
   "source": [
    "### 1. โปรแกรมนี้ต้องการให้ผู้ใช้งานงานเลือกกรอกจำนวนใด ๆ เข้ามา เพื่อทายว่า ตัวเลขที่กรอกเข้ามาจะตรงกับตัวเลขที่ถูกเลือกไว้หรือไม่\n",
    "\n",
    "จงเติมโปรแกรมให้มีความสมบูรณ์"
   ]
  },
  {
   "cell_type": "code",
   "execution_count": null,
   "id": "79be3e47-0804-4afb-842a-129737e8986c",
   "metadata": {},
   "outputs": [],
   "source": [
    "\n",
    "1 1 1 1 1 \n",
    "2 2 2 2 \n",
    "3 3 3 \n",
    "4 4 \n",
    "5"
   ]
  },
  {
   "cell_type": "code",
   "execution_count": 14,
   "id": "fa9aea5e-a450-40e1-93bd-5840adf769d8",
   "metadata": {
    "tags": []
   },
   "outputs": [
    {
     "name": "stdin",
     "output_type": "stream",
     "text": [
      "เลขที่ทาย 1-10 คือ  2\n"
     ]
    },
    {
     "name": "stdout",
     "output_type": "stream",
     "text": [
      "คุณยังทายไม่ถูกค่ะ\n"
     ]
    }
   ],
   "source": [
    "# คำตอบ\n",
    "puzzle = 3\n",
    "\n",
    "guess = int(input('เลขที่ทาย 1-10 คือ '))\n",
    "\n",
    "if guess == puzzle:\n",
    "    print('คุณทายถูกแล้วค่ะ')\n",
    "else:\n",
    "    print('คุณยังทายไม่ถูกค่ะ')"
   ]
  },
  {
   "cell_type": "markdown",
   "id": "38faf10a-74aa-4cc5-96a0-57f72771207e",
   "metadata": {},
   "source": [
    "## 2. จงเขียนโปรแกรมเพื่อรับค่าเข้ามาจาก keyboard แล้วตรวจสอบว่าค่าทีรับมานั้นเป็นจำนวนคู่หรือไม่\n",
    "\n",
    "ถ้่าเป็นจำนวนคู่ ให้แสดงผลออกทางหน้าจอว่า \"จำนวนคู่\"\n",
    "ถ้่าไม่เป็นจำนวนคู่ ให้แสดงผลออกทางหน้าจอว่า \"ไม่ใช่จำนวนคู่\""
   ]
  },
  {
   "cell_type": "code",
   "execution_count": 25,
   "id": "01e188b8-e7de-4029-9aa3-d3bd99c687d6",
   "metadata": {
    "tags": []
   },
   "outputs": [
    {
     "name": "stdin",
     "output_type": "stream",
     "text": [
      "ป้อนจำนวนเต็ม:  34\n"
     ]
    },
    {
     "name": "stdout",
     "output_type": "stream",
     "text": [
      "จำนวนคู่\n"
     ]
    }
   ],
   "source": [
    "# คำตอบ\n",
    "n = int(input(\"ป้อนจำนวนเต็ม: \"))\n",
    "if n % 2 == 0:\n",
    "    print(\"จำนวนคู่\")\n",
    "else:\n",
    "    print(\"ไม่ใช่จำนวนคู่\")"
   ]
  },
  {
   "cell_type": "markdown",
   "id": "65b7ce3b-28e0-4602-bc40-4a85f19a1e9c",
   "metadata": {},
   "source": [
    "## 3. จงเขียนโปรแกรมเพื่อรับค่าทาง keyboard แล้วตรวจสอบ ว่า\n",
    "\n",
    "- ถ้าหากจำนวนนั้นมีค่่าน้อยกว่า 10 ให้แจ้งว่า \"ค่าที่ท่านกรอก มีค่าน้อยกว่า 10\"\n",
    "- ถ้าหากจำนวนนั้นมีค่่าเท่ากับ 10 ให้แจ้งว่า \"ค่าที่ท่านกรอก มีค่าเท่ากับ 10\"\n",
    "- ถ้าหากจำนวนนั้นมีค่่ามากกว่า 10 ให้แจ้งว่า \"ค่าที่ท่านกรอก มีค่ามากกว่า 10\""
   ]
  },
  {
   "cell_type": "code",
   "execution_count": 24,
   "id": "0fe7fe4b-a04e-444d-90a4-1ca159440cb1",
   "metadata": {
    "tags": []
   },
   "outputs": [
    {
     "name": "stdin",
     "output_type": "stream",
     "text": [
      "ป้อนจำนวนเต็ม:  45\n"
     ]
    },
    {
     "name": "stdout",
     "output_type": "stream",
     "text": [
      "ค่าที่ท่านกรอกมีค่ามากกว่า 10\n"
     ]
    }
   ],
   "source": [
    "# คำตอบ\n",
    "n = int(input(\"ป้อนจำนวนเต็ม: \"))\n",
    "if n < 10:\n",
    "    print(f\"ค่าที่ท่านกรอกมีค่าน้อยกว่า 10\")\n",
    "elif n == 10:\n",
    "    print(f\"ค่าที่ท่านกรอกมีค่าเท่ากับ 10\")\n",
    "else:\n",
    "    print(f\"ค่าที่ท่านกรอกมีค่ามากกว่า 10\")\n"
   ]
  },
  {
   "cell_type": "markdown",
   "id": "f2bb3c11-460d-42e0-a4c6-410e031dc89f",
   "metadata": {},
   "source": [
    "## 4. ให้เขียนโปรแกรมเพื่อตรวจสอบว่ามีเลขใดบ้างในช่วง 1 ถึง 100 ที่หารด้วย 3 ลงตัว"
   ]
  },
  {
   "cell_type": "code",
   "execution_count": 27,
   "id": "9dbec0ab-5b56-4ae7-91e9-512ddecb469e",
   "metadata": {
    "tags": []
   },
   "outputs": [
    {
     "name": "stdout",
     "output_type": "stream",
     "text": [
      "1 หารไม่ลงตัว\n",
      "2 หารไม่ลงตัว\n",
      "3 หารลงตัว\n",
      "4 หารไม่ลงตัว\n",
      "5 หารไม่ลงตัว\n",
      "6 หารลงตัว\n",
      "7 หารไม่ลงตัว\n",
      "8 หารไม่ลงตัว\n",
      "9 หารลงตัว\n",
      "10 หารไม่ลงตัว\n",
      "11 หารไม่ลงตัว\n",
      "12 หารลงตัว\n",
      "13 หารไม่ลงตัว\n",
      "14 หารไม่ลงตัว\n",
      "15 หารลงตัว\n",
      "16 หารไม่ลงตัว\n",
      "17 หารไม่ลงตัว\n",
      "18 หารลงตัว\n",
      "19 หารไม่ลงตัว\n",
      "20 หารไม่ลงตัว\n",
      "21 หารลงตัว\n",
      "22 หารไม่ลงตัว\n",
      "23 หารไม่ลงตัว\n",
      "24 หารลงตัว\n",
      "25 หารไม่ลงตัว\n",
      "26 หารไม่ลงตัว\n",
      "27 หารลงตัว\n",
      "28 หารไม่ลงตัว\n",
      "29 หารไม่ลงตัว\n",
      "30 หารลงตัว\n",
      "31 หารไม่ลงตัว\n",
      "32 หารไม่ลงตัว\n",
      "33 หารลงตัว\n",
      "34 หารไม่ลงตัว\n",
      "35 หารไม่ลงตัว\n",
      "36 หารลงตัว\n",
      "37 หารไม่ลงตัว\n",
      "38 หารไม่ลงตัว\n",
      "39 หารลงตัว\n",
      "40 หารไม่ลงตัว\n",
      "41 หารไม่ลงตัว\n",
      "42 หารลงตัว\n",
      "43 หารไม่ลงตัว\n",
      "44 หารไม่ลงตัว\n",
      "45 หารลงตัว\n",
      "46 หารไม่ลงตัว\n",
      "47 หารไม่ลงตัว\n",
      "48 หารลงตัว\n",
      "49 หารไม่ลงตัว\n",
      "50 หารไม่ลงตัว\n",
      "51 หารลงตัว\n",
      "52 หารไม่ลงตัว\n",
      "53 หารไม่ลงตัว\n",
      "54 หารลงตัว\n",
      "55 หารไม่ลงตัว\n",
      "56 หารไม่ลงตัว\n",
      "57 หารลงตัว\n",
      "58 หารไม่ลงตัว\n",
      "59 หารไม่ลงตัว\n",
      "60 หารลงตัว\n",
      "61 หารไม่ลงตัว\n",
      "62 หารไม่ลงตัว\n",
      "63 หารลงตัว\n",
      "64 หารไม่ลงตัว\n",
      "65 หารไม่ลงตัว\n",
      "66 หารลงตัว\n",
      "67 หารไม่ลงตัว\n",
      "68 หารไม่ลงตัว\n",
      "69 หารลงตัว\n",
      "70 หารไม่ลงตัว\n",
      "71 หารไม่ลงตัว\n",
      "72 หารลงตัว\n",
      "73 หารไม่ลงตัว\n",
      "74 หารไม่ลงตัว\n",
      "75 หารลงตัว\n",
      "76 หารไม่ลงตัว\n",
      "77 หารไม่ลงตัว\n",
      "78 หารลงตัว\n",
      "79 หารไม่ลงตัว\n",
      "80 หารไม่ลงตัว\n",
      "81 หารลงตัว\n",
      "82 หารไม่ลงตัว\n",
      "83 หารไม่ลงตัว\n",
      "84 หารลงตัว\n",
      "85 หารไม่ลงตัว\n",
      "86 หารไม่ลงตัว\n",
      "87 หารลงตัว\n",
      "88 หารไม่ลงตัว\n",
      "89 หารไม่ลงตัว\n",
      "90 หารลงตัว\n",
      "91 หารไม่ลงตัว\n",
      "92 หารไม่ลงตัว\n",
      "93 หารลงตัว\n",
      "94 หารไม่ลงตัว\n",
      "95 หารไม่ลงตัว\n",
      "96 หารลงตัว\n",
      "97 หารไม่ลงตัว\n",
      "98 หารไม่ลงตัว\n",
      "99 หารลงตัว\n",
      "100 หารไม่ลงตัว\n"
     ]
    }
   ],
   "source": [
    "# คำตอบ\n",
    "for number in range(1, 101):\n",
    "    if number % 3 == 0:\n",
    "        print(f\"{number} หารลงตัว\")\n",
    "    else:\n",
    "        print(f\"{number} หารไม่ลงตัว\")"
   ]
  },
  {
   "cell_type": "markdown",
   "id": "008981d7-b535-46f2-a4eb-e44ff96af393",
   "metadata": {},
   "source": [
    "## 5. จงเขียนโปรแกรมเพื่อรับค่าจาก kayboard เข้ามาเรื่อย ๆ และเก็บค่านั้นไว้ใน List จนกว่าผู้ใช้จะป้อน 'q'\n"
   ]
  },
  {
   "cell_type": "code",
   "execution_count": 3,
   "id": "ab73ce7c-116f-44ec-8be9-a6643cd8089b",
   "metadata": {
    "tags": []
   },
   "outputs": [
    {
     "name": "stdin",
     "output_type": "stream",
     "text": [
      "ป้อนค่า (ต้องการหยุดให้พิมพ์ 'q' หรือ 'Q' ):  fslaa\n",
      "ป้อนค่า (ต้องการหยุดให้พิมพ์ 'q' หรือ 'Q' ):  afkdsl\n",
      "ป้อนค่า (ต้องการหยุดให้พิมพ์ 'q' หรือ 'Q' ):  Qas\n",
      "ป้อนค่า (ต้องการหยุดให้พิมพ์ 'q' หรือ 'Q' ):  Q\n"
     ]
    },
    {
     "name": "stdout",
     "output_type": "stream",
     "text": [
      "ค่าที่ถูกเก็บใน List คือ: ['fslaa', 'afkdsl', 'Qas']\n"
     ]
    }
   ],
   "source": [
    "# คำตอบ\n",
    "\n",
    "dlist = []\n",
    "\n",
    "while True:\n",
    "    user_input = input(\"ป้อนค่า (ต้องการหยุดให้พิมพ์ 'q' หรือ 'Q' ): \")\n",
    "    \n",
    "    if user_input.lower() == 'q'and 'Q':\n",
    "        break\n",
    "    \n",
    "    dlist.append(user_input)\n",
    "\n",
    "print(\"ค่าที่ถูกเก็บใน List คือ:\", dlist)\n"
   ]
  },
  {
   "cell_type": "code",
   "execution_count": null,
   "id": "64d5aca3-3252-4a6c-9585-c56312b78bab",
   "metadata": {},
   "outputs": [],
   "source": [
    "my_str = 'Python Data Types: Dictionary - Exercises, Practice, Solution'"
   ]
  },
  {
   "cell_type": "code",
   "execution_count": null,
   "id": "df8569e5-cd69-4598-adba-5cc3948fae42",
   "metadata": {},
   "outputs": [],
   "source": [
    "# คำตอบ\n",
    "\n"
   ]
  },
  {
   "cell_type": "markdown",
   "id": "d4ed0cfb-9f00-4882-aa63-8f6d576bbdd6",
   "metadata": {},
   "source": [
    "<hr>"
   ]
  },
  {
   "cell_type": "markdown",
   "id": "d7ae6696-874c-44a1-9067-c8e339df4246",
   "metadata": {},
   "source": [
    "# ส่วนที่ 2 ข้อละ 5 คะแนน"
   ]
  },
  {
   "cell_type": "markdown",
   "id": "bb278ca2-30bf-45ae-9d24-9f1807c0d1fb",
   "metadata": {},
   "source": [
    "## 6. จงเขียนโปรแกรมเพื่อให้แสดงในรูปแบบดังต่อไปนี้"
   ]
  },
  {
   "cell_type": "code",
   "execution_count": null,
   "id": "ea341ede-ee01-4c71-a6aa-b7557a580952",
   "metadata": {},
   "outputs": [],
   "source": [
    "'''\n",
    "1 1 1 1 1 \n",
    "2 2 2 2 \n",
    "3 3 3 \n",
    "4 4 \n",
    "5\n",
    "'''"
   ]
  },
  {
   "cell_type": "code",
   "execution_count": 22,
   "id": "148c82f0-8684-4394-b211-dc5420ff15b7",
   "metadata": {
    "tags": []
   },
   "outputs": [
    {
     "name": "stdout",
     "output_type": "stream",
     "text": [
      "1 1 1 1 1\n",
      "2 2 2 2\n",
      "3 3 3\n",
      "4 4\n",
      "5\n"
     ]
    }
   ],
   "source": [
    "# คำตอบ\n",
    "for i in range(1, 6):\n",
    "    print(\" \".join(str(i) for j in range(6 - i)))"
   ]
  },
  {
   "cell_type": "markdown",
   "id": "2d3e9f69-b89e-430b-a310-c443bf95f659",
   "metadata": {},
   "source": [
    "## 7. จงเขียนโปรแกรมเพื่อให้แสดงในรูปแบบดังต่อไปนี้"
   ]
  },
  {
   "cell_type": "code",
   "execution_count": null,
   "id": "eafb188c-e33d-46c9-a403-c97c16c066ca",
   "metadata": {},
   "outputs": [],
   "source": [
    "'''\n",
    "1 \n",
    "1 2 \n",
    "1 2 3 \n",
    "1 2 3 4 \n",
    "1 2 3 4 5\n",
    "'''"
   ]
  },
  {
   "cell_type": "code",
   "execution_count": 16,
   "id": "07acb60a-a82d-4b51-8589-28caab76afc6",
   "metadata": {
    "tags": []
   },
   "outputs": [
    {
     "name": "stdout",
     "output_type": "stream",
     "text": [
      "1\n",
      "1 2\n",
      "1 2 3\n",
      "1 2 3 4\n",
      "1 2 3 4 5\n"
     ]
    }
   ],
   "source": [
    "# คำตอบ\n",
    "for i in range(1, 6):\n",
    "    print(\" \".join(str(j) for j in range(1, i + 1)))\n"
   ]
  },
  {
   "cell_type": "markdown",
   "id": "a68243aa-a5f9-43ba-bdac-8a6e584fa436",
   "metadata": {},
   "source": [
    "<hr>"
   ]
  },
  {
   "cell_type": "markdown",
   "id": "84e801c6-bb0e-4b5a-a792-5e7026806225",
   "metadata": {},
   "source": [
    "**ข้อให้ทุกคนโชคดีในการสอบ**<br>\n",
    "ผู้ช่วยศาสตราจารย์พิศาล สุขขี<br>\n",
    "สาขาวิทยาการคอมพิวเตอร์<br>\n",
    "มหาวิทยาลัยราชภัฏศรีสะเกษ"
   ]
  }
 ],
 "metadata": {
  "kernelspec": {
   "display_name": "Python 3 (ipykernel)",
   "language": "python",
   "name": "python3"
  },
  "language_info": {
   "codemirror_mode": {
    "name": "ipython",
    "version": 3
   },
   "file_extension": ".py",
   "mimetype": "text/x-python",
   "name": "python",
   "nbconvert_exporter": "python",
   "pygments_lexer": "ipython3",
   "version": "3.11.5"
  }
 },
 "nbformat": 4,
 "nbformat_minor": 5
}
