{
 "cells": [
  {
   "cell_type": "code",
   "execution_count": 1,
   "id": "32632f0d-ee61-4188-9970-297b919b7fca",
   "metadata": {
    "tags": []
   },
   "outputs": [],
   "source": [
    "***\n",
    "นายศุภชัย วิเชีย 6612732131\n",
    "***"
   ]
  },
  {
   "cell_type": "code",
   "execution_count": 27,
   "id": "3b51f977-a359-4037-a794-135e74db7f16",
   "metadata": {
    "tags": []
   },
   "outputs": [
    {
     "name": "stdout",
     "output_type": "stream",
     "text": [
      "\n",
      "* \n",
      "* * \n",
      "* * * \n",
      "* * * * \n",
      "* * * * * \n"
     ]
    }
   ],
   "source": [
    "#ข้อ 1\n",
    "for i in range(0, 6):\n",
    "    for j in range(0, i):\n",
    "        print(\"*\", end=\" \")\n",
    "    print()"
   ]
  },
  {
   "cell_type": "code",
   "execution_count": 63,
   "id": "98ef95b5-409d-4482-8546-8fe92df2f6a9",
   "metadata": {
    "tags": []
   },
   "outputs": [
    {
     "name": "stdout",
     "output_type": "stream",
     "text": [
      "           *\n",
      "         * *\n",
      "       * * *\n",
      "     * * * *\n",
      "   * * * * *\n",
      " * * * * * *\n"
     ]
    }
   ],
   "source": [
    "#ข้อ 2\n",
    "num = 6\n",
    "end = num - 1\n",
    "for i in range(0, num):\n",
    "    for j in range(0, num):\n",
    "        if j >= end - i :\n",
    "            print(\" *\", end=\"\")\n",
    "        else:\n",
    "            print(\" \", end=\" \")\n",
    "    print( )"
   ]
  },
  {
   "cell_type": "code",
   "execution_count": 26,
   "id": "6d628a1d-5ab0-47dd-9f2f-7b6559eb99cd",
   "metadata": {
    "tags": []
   },
   "outputs": [
    {
     "name": "stdout",
     "output_type": "stream",
     "text": [
      "* * * * * \n",
      "* * * * \n",
      "* * * \n",
      "* * \n",
      "* \n"
     ]
    }
   ],
   "source": [
    "#ข้อ 3\n",
    "for i in range(5, 0 , -1):\n",
    "    for j in range(i, 0, -1):\n",
    "        print(\"*\", end=\" \")\n",
    "    print()"
   ]
  },
  {
   "cell_type": "code",
   "execution_count": 1,
   "id": "08d18a72-d425-4c5b-aaf7-bd579d87c0e1",
   "metadata": {
    "tags": []
   },
   "outputs": [
    {
     "name": "stdout",
     "output_type": "stream",
     "text": [
      "     * \n",
      "    * * \n",
      "   * * * \n",
      "  * * * * \n",
      " * * * * * \n",
      "* * * * * * \n"
     ]
    }
   ],
   "source": [
    "#ข้อ 4 \n",
    "num = 6\n",
    "end = num - 1\n",
    "for i in range(0, num):\n",
    "    for j in range(0, num):\n",
    "        if j >= end - i :\n",
    "            print(\"*\", end=\" \")\n",
    "        else:\n",
    "            print(\" \", end=\"\")\n",
    "    print()\n",
    "    "
   ]
  },
  {
   "cell_type": "code",
   "execution_count": null,
   "id": "eca24590-a976-4da7-a9af-585b00ed3800",
   "metadata": {},
   "outputs": [],
   "source": []
  }
 ],
 "metadata": {
  "kernelspec": {
   "display_name": "Python 3 (ipykernel)",
   "language": "python",
   "name": "python3"
  },
  "language_info": {
   "codemirror_mode": {
    "name": "ipython",
    "version": 3
   },
   "file_extension": ".py",
   "mimetype": "text/x-python",
   "name": "python",
   "nbconvert_exporter": "python",
   "pygments_lexer": "ipython3",
   "version": "3.11.5"
  }
 },
 "nbformat": 4,
 "nbformat_minor": 5
}
