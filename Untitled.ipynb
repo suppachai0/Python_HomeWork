{
 "cells": [
  {
   "cell_type": "code",
   "execution_count": 7,
   "id": "8e1065ed-1037-4348-86ad-f7bd33bbfe24",
   "metadata": {},
   "outputs": [
    {
     "name": "stdin",
     "output_type": "stream",
     "text": [
      "name osdmks\n"
     ]
    },
    {
     "name": "stdout",
     "output_type": "stream",
     "text": [
      "Henllo osdmks\n"
     ]
    }
   ],
   "source": [
    "a = input (\"name\")\n",
    "print (\"Henllo {}\".format(a))"
   ]
  },
  {
   "cell_type": "code",
   "execution_count": 27,
   "id": "58c55497-62ab-47b0-9bb8-bfb3fcd6c3c5",
   "metadata": {
    "tags": []
   },
   "outputs": [
    {
     "name": "stdout",
     "output_type": "stream",
     "text": [
      "pi : 3.142\n"
     ]
    }
   ],
   "source": [
    "pi = 3.1416\n",
    "print (\"pi : {0:.3f}\".format(pi))"
   ]
  },
  {
   "cell_type": "code",
   "execution_count": 30,
   "id": "baab67aa-df68-49e5-94d2-ee2f5339c7d9",
   "metadata": {
    "tags": []
   },
   "outputs": [
    {
     "name": "stdout",
     "output_type": "stream",
     "text": [
      "hi dasd;lda is hsakfad fo asdhfhsaff\n"
     ]
    }
   ],
   "source": [
    "print (\"hi {0} is {2} fo {1}\".format(\"dasd;lda\",\"asdhfhsaff\",\"hsakfad\"))"
   ]
  },
  {
   "cell_type": "code",
   "execution_count": 31,
   "id": "c0a277e1-36b5-45ff-90cb-c0f31cc9fc00",
   "metadata": {
    "tags": []
   },
   "outputs": [
    {
     "name": "stdin",
     "output_type": "stream",
     "text": [
      "name fail\n",
      "age 19\n"
     ]
    },
    {
     "name": "stdout",
     "output_type": "stream",
     "text": [
      "สวัดดีfailคุณอายุ19ไช้ใหม\n"
     ]
    }
   ],
   "source": [
    "a = input (\"name\")\n",
    "b = input (\"age\")\n",
    "print (\"สวัดดี{}คุณอายุ{}ไช้ใหม\".format(a , b))"
   ]
  },
  {
   "cell_type": "code",
   "execution_count": 34,
   "id": "88ac6464-a7c2-485f-914c-28702dac70e9",
   "metadata": {
    "tags": []
   },
   "outputs": [
    {
     "name": "stdin",
     "output_type": "stream",
     "text": [
      "คะแนน: 68\n"
     ]
    },
    {
     "name": "stdout",
     "output_type": "stream",
     "text": [
      "เกลด C\n"
     ]
    }
   ],
   "source": [
    "g = int (input(\"คะแนน:\"))\n",
    "if g >= 80:\n",
    "    print (\"เกลด A\")\n",
    "elif g >= 70:\n",
    "    print (\"เกลด B\")\n",
    "elif g >= 60:\n",
    "    print (\"เกลด C\")\n",
    "elif g >= 50:\n",
    "    print (\"เกลด D\")\n",
    "else :\n",
    "    print (\"เกลด E\")\n"
   ]
  },
  {
   "cell_type": "code",
   "execution_count": 40,
   "id": "326e3398-5dbf-4ccd-b3d4-1e0f4e2e5d39",
   "metadata": {
    "tags": []
   },
   "outputs": [
    {
     "name": "stdin",
     "output_type": "stream",
     "text": [
      "number: 43\n"
     ]
    },
    {
     "name": "stdout",
     "output_type": "stream",
     "text": [
      "1.6334684555795864\n"
     ]
    }
   ],
   "source": [
    "a = int(input(\"number:\")) \n",
    "result = math.log10(a)\n",
    "print(result)"
   ]
  },
  {
   "cell_type": "code",
   "execution_count": 1,
   "id": "6b538903-d263-4c3a-8d3a-588c6ec0e137",
   "metadata": {},
   "outputs": [
    {
     "name": "stdout",
     "output_type": "stream",
     "text": [
      "[1, 2, 3, 4, 5]\n"
     ]
    }
   ],
   "source": [
    "def remove_duplicates(lst):\n",
    "    return list(set(lst))\n",
    "argument_list = [1, 2, 3, 3, 3, 3, 4, 5]\n",
    "output_list = remove_duplicates(argument_list)\n",
    "print(output_list)\n"
   ]
  },
  {
   "cell_type": "code",
   "execution_count": 6,
   "id": "03fe707f-c64c-4989-9045-4db06d02426e",
   "metadata": {
    "tags": []
   },
   "outputs": [
    {
     "name": "stdin",
     "output_type": "stream",
     "text": [
      "Enter a number:  93\n"
     ]
    },
    {
     "name": "stdout",
     "output_type": "stream",
     "text": [
      "False\n"
     ]
    }
   ],
   "source": [
    "def is_prime(num):\n",
    "    if num <= 1:\n",
    "        return False\n",
    "    if num == 2:\n",
    "        return True  # 2 is a prime number\n",
    "    if num % 2 == 0:\n",
    "        return False  # Even numbers greater than 2 are not prime\n",
    "    for i in range(3, int(num**0.5) + 1, 2):\n",
    "        if num % i == 0:\n",
    "            return False\n",
    "    return True\n",
    "\n",
    "num = int(input(\"Enter a number: \"))\n",
    "result = is_prime(num)\n",
    "print(result)\n",
    "#หาจำนวนเฉพาะด้วยifแสดงtrueและfalse\n"
   ]
  },
  {
   "cell_type": "code",
   "execution_count": 18,
   "id": "4c59bb91-3297-40dc-83f8-d3f65303e436",
   "metadata": {
    "tags": []
   },
   "outputs": [
    {
     "name": "stdin",
     "output_type": "stream",
     "text": [
      "อักขระ : fghhf\n"
     ]
    },
    {
     "name": "stdout",
     "output_type": "stream",
     "text": [
      "Input String: fghhf\n",
      "No. of Upper case characters: 0\n",
      "No. of Lower case characters: 5\n"
     ]
    }
   ],
   "source": [
    "key = input(\"อักขระ :\")\n",
    "def count(input_str):\n",
    "  upper_count = 0\n",
    "  lower_count = 0\n",
    "\n",
    "  for char in input_str:\n",
    "      if char.isupper():\n",
    "          upper_count += 1\n",
    "      elif char.islower():\n",
    "          lower_count += 1\n",
    "\n",
    "  \n",
    "  print(\"Input String:\", input_str)\n",
    "  print(\"No. of Upper case characters:\", upper_count)\n",
    "  print(\"No. of Lower case characters:\", lower_count)\n",
    "\n",
    "input_string = (key)\n",
    "count_upper_lower_characters(input_string)"
   ]
  },
  {
   "cell_type": "code",
   "execution_count": 14,
   "id": "9a3c3cb7-6a28-42dc-85be-230afcd22094",
   "metadata": {
    "tags": []
   },
   "outputs": [
    {
     "name": "stdin",
     "output_type": "stream",
     "text": [
      " 62378\n"
     ]
    },
    {
     "name": "stdout",
     "output_type": "stream",
     "text": [
      "1039 ชั่วโมง : 38 นาที\n"
     ]
    }
   ],
   "source": [
    "t = int(input())\n",
    "def time(minutes):\n",
    "  hours = minutes // 60 \n",
    " remaining_minutes = minutes % 60\n",
    "  return \"{} ชั่วโมง : {} นาที\".format(hours, remaining_minutes)\n",
    "result = time(t)\n",
    "print(result)\n",
    "\n"
   ]
  },
  {
   "cell_type": "code",
   "execution_count": 15,
   "id": "3e1a705c-6474-4971-8a4a-781ce6e73735",
   "metadata": {
    "tags": []
   },
   "outputs": [
    {
     "name": "stdin",
     "output_type": "stream",
     "text": [
      " 248723\n"
     ]
    },
    {
     "name": "stdout",
     "output_type": "stream",
     "text": [
      "172 วัน : 17 ชั่วโมง : 23 นาที\n"
     ]
    }
   ],
   "source": [
    "t = int(input())\n",
    "def time(minutes):\n",
    "    days = minutes // 1440  \n",
    "    hours = (minutes % 1440) // 60\n",
    "    remaining_minutes = minutes % 60\n",
    "    return \"{} วัน : {} ชั่วโมง : {} นาที\".format(days, hours, remaining_minutes)  \n",
    "result = time(t)\n",
    "print(result)  \n"
   ]
  },
  {
   "cell_type": "code",
   "execution_count": null,
   "id": "d8db3fce-83d7-4d10-824f-25512d5a95fd",
   "metadata": {},
   "outputs": [],
   "source": [
    "key = input(\"พิมอังกฤษ:\")  # รับข้อมูลจากผู้ใช้เก็บไว้ในตัวแปร key\n",
    "def count(input_str):\n",
    "    upper_count = 0  # ตัวแปรเพื่อเก็บจำนวนตัวอักษรที่เป็นตัวพิมพ์ใหญ่\n",
    "    lower_count = 0  # ตัวแปรเพื่อเก็บจำนวนตัวอักษรที่เป็นตัวพิมพ์เล็ก\n",
    "\n",
    "    # วนลูปทุกตัวอักษรในข้อความที่รับมา\n",
    "    for char in input_str:\n",
    "        if char.isupper():  # ถ้าตัวอักษรเป็นตัวพิมพ์ใหญ่\n",
    "            upper_count += 1\n",
    "        elif char.islower():  # ถ้าตัวอักษรเป็นตัวพิมพ์เล็ก\n",
    "            lower_count += 1\n",
    "\n",
    "    # แสดงผลลัพธ์\n",
    "    print(\"Input String:\", input_str)\n",
    "    print(\"No. of Upper case characters:\", upper_count)#จำนวนอักขระตัวพิมพ์ใหญ่:\n",
    "    print(\"No. of Lower case characters:\", lower_count)#จำนวนตัวอักษรตัวพิมพ์เล็ก:\n",
    "\n",
    "# เรียกใช้ฟังก์ชัน count และส่งค่า key เข้าไป\n",
    "count(input_string)"
   ]
  },
  {
   "cell_type": "code",
   "execution_count": null,
   "id": "fceab7e2-8870-47a1-b30b-558c4d494c09",
   "metadata": {},
   "outputs": [],
   "source": [
    "my_dict = {\n",
    "        '6611127320001' : {\n",
    "            'prefix' : 'นาย',\n",
    "            'name':'ศักรินทร์',\n",
    "            'lname': 'หาญทอง',\n",
    "            'school' : 'โรงเรียนวัดหลวงวิทยา',\n",
    "        },\n",
    "        '6611127320002' : {\n",
    "            'prefix' : 'นาย',\n",
    "            'name' : 'นายทวีพร',\n",
    "            'lname' : 'ดาวจันทร์',\n",
    "            'school': ' โรงเรียนนาเเก้ววิทยา',\n",
    "        },\n",
    "        '6611127320003' : {\n",
    "            'prefix' : 'นาย',\n",
    "            'name' : 'นายฐิชัย',\n",
    "            'lname' : 'พลหาญ',\n",
    "            'school': 'โรงเรียนโขงเจียมวิทยาคม',\n",
    "        },\n",
    "        '6611127320004' : {\n",
    "            'prefix' : 'นาย',\n",
    "            'name' : 'นายชานนท์',\n",
    "            'lname' : 'รูปคุ้ม',\n",
    "            'school': 'โรงเรียนบ้านกันทรารมย์',\n",
    "    }\n",
    "}"
   ]
  },
  {
   "cell_type": "code",
   "execution_count": null,
   "id": "ebeca505-a57a-457d-af56-101433c7e253",
   "metadata": {},
   "outputs": [],
   "source": [
    "for key in my_dict.keys():\n",
    "    print(\"{} {} {} {} \".format(\n",
    "        key,\n",
    "            my_dict.get(key).get(\"prefix\"),\n",
    "            my_dict.get(key).get(\"name\"),\n",
    "            my_dict.get(key).get(\"lname\"),\n",
    "            my_dict.get(key).get(\"school\"),\n",
    "        )\n",
    "    )"
   ]
  },
  {
   "cell_type": "code",
   "execution_count": 20,
   "id": "e3e6cc17-c9d5-4258-8db0-72d136799866",
   "metadata": {
    "tags": []
   },
   "outputs": [
    {
     "name": "stdout",
     "output_type": "stream",
     "text": [
      "black-green-red-white-yellow\n"
     ]
    }
   ],
   "source": [
    "def join(input_str):\n",
    "    words = input_str.split('-')\n",
    "    words.sort()\n",
    "    return '-'.join(words)\n",
    "argument = \"green-red-yellow-black-white\"\n",
    "result = join(argument)\n",
    "print(result)"
   ]
  },
  {
   "cell_type": "code",
   "execution_count": 26,
   "id": "184061e1-8242-4d52-a5df-ab928d321a86",
   "metadata": {
    "tags": []
   },
   "outputs": [
    {
     "name": "stdout",
     "output_type": "stream",
     "text": [
      "black-green-red-white-yellow\n"
     ]
    }
   ],
   "source": [
    " def join(input_str):\n",
    "    words = input_str.split('-')  # แยกคำโดยใช้เครื่องหมายขีดกลาง\n",
    "    words.sort()  # เรียงคำ\n",
    "    return '-'.join(words)  # รวมคำเข้าด้วยกันโดยใส่เครื่องหมายขีดกลางในระหว่างคำ\n",
    "\n",
    "argument = \"green-red-yellow-black-white\"\n",
    "result = join(argument)  # เรียกใช้ฟังก์ชัน join\n",
    "print(result)  # แสดงผลลัพธ์"
   ]
  },
  {
   "cell_type": "code",
   "execution_count": 27,
   "id": "ebef75ed-92f4-42df-88a5-e26a52d270b7",
   "metadata": {
    "tags": []
   },
   "outputs": [
    {
     "name": "stdout",
     "output_type": "stream",
     "text": [
      "pi = 3.0\n",
      "pi = 3.14\n",
      "pi = 3.1416\n"
     ]
    }
   ],
   "source": [
    "pi = 3.14159\n",
    "print(\"pi =\", round(pi, 0))\n",
    "print(\"pi =\", round(pi, 2))\n",
    "print(\"pi =\", round(pi, 4))\n"
   ]
  },
  {
   "cell_type": "code",
   "execution_count": 28,
   "id": "5d427ae7-60ad-4f34-a9d5-4c32a7f1cb21",
   "metadata": {
    "tags": []
   },
   "outputs": [
    {
     "name": "stdout",
     "output_type": "stream",
     "text": [
      "pi : 3\n",
      "pi : 3.14\n",
      "pi : 3.1416\n"
     ]
    }
   ],
   "source": [
    "pi = 3.14159\n",
    "print(\"pi : {0:.0f}\".format(pi))\n",
    "print(\"pi : {0:.2f}\".format(pi))\n",
    "print(\"pi : {0:.4f}\".format(pi))"
   ]
  },
  {
   "cell_type": "code",
   "execution_count": 29,
   "id": "54d4391c-3d66-4acb-9b09-1e79a2aea761",
   "metadata": {
    "jupyter": {
     "source_hidden": true
    },
    "tags": []
   },
   "outputs": [
    {
     "name": "stdout",
     "output_type": "stream",
     "text": [
      "|dog       |   cat    |       bat|\n"
     ]
    }
   ],
   "source": [
    "print (\"|{0:<10}|{1:^10}|{2:>10}|\".format(\"dog\",\"cat\",\"bat\"))"
   ]
  },
  {
   "cell_type": "code",
   "execution_count": 30,
   "id": "65e470cf-1a81-48cd-95f6-d56a24e18b07",
   "metadata": {
    "tags": []
   },
   "outputs": [
    {
     "name": "stdout",
     "output_type": "stream",
     "text": [
      "|dog*******|***cat****|*******bat|\n"
     ]
    }
   ],
   "source": [
    "print (\"|{0:*<10}|{1:*^10}|{2:*>10}|\".format(\"dog\",\"cat\",\"bat\"))"
   ]
  },
  {
   "cell_type": "code",
   "execution_count": null,
   "id": "9c78ce29-b531-4954-9794-5b40015f3909",
   "metadata": {},
   "outputs": [],
   "source": [
    "#แสดงชนิดของข้อมูล\n",
    "a = 15.50\n",
    "b = \"‘Python’\"\n",
    "\n",
    "print(type(a))\n",
    "\n",
    "print(type(b))"
   ]
  },
  {
   "cell_type": "code",
   "execution_count": 31,
   "id": "ddc6efeb-c73c-48e0-8d03-f5dfd3978bd0",
   "metadata": {
    "tags": []
   },
   "outputs": [
    {
     "name": "stdout",
     "output_type": "stream",
     "text": [
      "Jane's teacher says \"You have to study hard\"–\n"
     ]
    }
   ],
   "source": [
    "print(\"Jane's teacher says \\\"You have to study hard\\\"–\")"
   ]
  },
  {
   "cell_type": "code",
   "execution_count": 33,
   "id": "fbb7d7cd-cb8d-453c-903b-416392904c4a",
   "metadata": {
    "tags": []
   },
   "outputs": [
    {
     "name": "stdout",
     "output_type": "stream",
     "text": [
      "1\n",
      "2\n",
      "f\n",
      "4\n",
      "g\n",
      "f\n",
      "7\n",
      "8\n",
      "f\n",
      "g\n",
      "11\n",
      "f\n",
      "13\n",
      "14\n",
      "fg\n",
      "16\n",
      "17\n",
      "f\n",
      "19\n",
      "g\n",
      "f\n",
      "22\n",
      "23\n",
      "f\n",
      "g\n",
      "26\n",
      "f\n",
      "28\n",
      "29\n",
      "fg\n",
      "31\n",
      "32\n",
      "f\n",
      "34\n",
      "g\n",
      "f\n",
      "37\n",
      "38\n",
      "f\n",
      "g\n",
      "41\n",
      "f\n",
      "43\n",
      "44\n",
      "fg\n",
      "46\n",
      "47\n",
      "f\n",
      "49\n",
      "g\n"
     ]
    }
   ],
   "source": [
    "for i in range (1, 51):\n",
    "    if i %3 ==0 and i %5 ==0:\n",
    "        print(\"fg\")\n",
    "    elif i %3 ==0:\n",
    "            print(\"f\")\n",
    "    elif i %5 ==0:\n",
    "            print(\"g\")\n",
    "    else:\n",
    "        print(i)"
   ]
  },
  {
   "cell_type": "code",
   "execution_count": 36,
   "id": "dd903b8c-9234-4ed2-bd1c-579db8e0f83f",
   "metadata": {
    "tags": []
   },
   "outputs": [
    {
     "name": "stdout",
     "output_type": "stream",
     "text": [
      "ผลรวมเท่ากับ: 20\n"
     ]
    }
   ],
   "source": [
    "l = [8, 2, 3, 0, 7]\n",
    "r = sum(l)\n",
    "print(\"ผลรวมเท่ากับ:\", r)"
   ]
  },
  {
   "cell_type": "code",
   "execution_count": 39,
   "id": "b21adc49-a17a-4be0-a6eb-ed06a5dcaece",
   "metadata": {
    "tags": []
   },
   "outputs": [
    {
     "name": "stdout",
     "output_type": "stream",
     "text": [
      "Argument List: [8, 2, 3, 0, 7]\n",
      "Output List: [0, 2, 3, 7, 8]\n"
     ]
    }
   ],
   "source": [
    "def remove(l):\n",
    "    lt = list(set(l))\n",
    "    return lt\n",
    "\n",
    "lt = [1, 2, 3, 3, 3, 3, 4, 5]\n",
    "result = remove(l)\n",
    "print(\"Argument List:\", l)\n",
    "print(\"Output List:\", result)"
   ]
  },
  {
   "cell_type": "code",
   "execution_count": null,
   "id": "8e5f953d-7683-4050-bb93-2659f73ba7c1",
   "metadata": {
    "tags": []
   },
   "outputs": [],
   "source": []
  },
  {
   "cell_type": "code",
   "execution_count": 3,
   "id": "96a3a523-3411-4954-93c6-50cf92cc01dc",
   "metadata": {
    "tags": []
   },
   "outputs": [
    {
     "name": "stdout",
     "output_type": "stream",
     "text": [
      "15\n"
     ]
    }
   ],
   "source": [
    "def num(lst):\n",
    "    return sum(lst)\n",
    "n = [1, 2, 3, 4, 5]\n",
    "r = num(n)\n",
    "print(r)\n",
    "\n"
   ]
  },
  {
   "cell_type": "code",
   "execution_count": 5,
   "id": "940ca459-a731-4bf0-8d92-2c974198df63",
   "metadata": {},
   "outputs": [
    {
     "name": "stdout",
     "output_type": "stream",
     "text": [
      "10\n"
     ]
    }
   ],
   "source": [
    "num=(5,5)\n",
    "def list_b(num):\n",
    "    list_b=sum(num)\n",
    "    return list_b \n",
    "print(list_b(num))"
   ]
  },
  {
   "cell_type": "code",
   "execution_count": 2,
   "id": "264df3ee-e1b6-476b-a913-408381ce65bb",
   "metadata": {
    "tags": []
   },
   "outputs": [
    {
     "name": "stdout",
     "output_type": "stream",
     "text": [
      "Argument List: [1, 2, 3, 3, 3, 3, 4, 5]\n",
      "Output List: [1, 2, 3, 4, 5]\n"
     ]
    }
   ],
   "source": [
    "def remove_duplicates(input_lt):\n",
    "    lt = list(set(input_lt))\n",
    "    return lt\n",
    "\n",
    "argument_lt = [1, 2, 3, 3, 3, 3, 4, 5]\n",
    "result = remove_duplicates(argument_lt)\n",
    "print(\"Argument List:\", argument_lt)\n",
    "print(\"Output List:\", result)"
   ]
  },
  {
   "cell_type": "code",
   "execution_count": 7,
   "id": "610803c7-60cc-4bb2-87b3-eb6d6c86896e",
   "metadata": {},
   "outputs": [
    {
     "name": "stdin",
     "output_type": "stream",
     "text": [
      "number:  10\n"
     ]
    },
    {
     "name": "stdout",
     "output_type": "stream",
     "text": [
      "1\n",
      "22\n",
      "333\n",
      "4444\n",
      "55555\n",
      "666666\n",
      "7777777\n",
      "88888888\n",
      "999999999\n",
      "10101010101010101010\n"
     ]
    }
   ],
   "source": [
    " n = int(input(\"number: \"))\n",
    "for i in range (1, n +1):\n",
    "    print(str(i)*i)"
   ]
  },
  {
   "cell_type": "code",
   "execution_count": 9,
   "id": "cf493604-b857-4ba2-8c58-d0228c13fc3a",
   "metadata": {
    "tags": []
   },
   "outputs": [
    {
     "name": "stdout",
     "output_type": "stream",
     "text": [
      "1\n",
      "2\n",
      "f\n",
      "4\n",
      "b\n",
      "f\n",
      "7\n",
      "8\n",
      "f\n",
      "fb\n",
      "11\n",
      "f\n",
      "13\n",
      "14\n",
      "f\n",
      "16\n",
      "17\n",
      "f\n",
      "19\n",
      "fb\n",
      "f\n",
      "22\n",
      "23\n",
      "f\n",
      "b\n",
      "26\n",
      "f\n",
      "28\n",
      "29\n",
      "fb\n",
      "31\n",
      "32\n",
      "f\n",
      "34\n",
      "b\n",
      "f\n",
      "37\n",
      "38\n",
      "f\n",
      "fb\n",
      "41\n",
      "f\n",
      "43\n",
      "44\n",
      "f\n",
      "46\n",
      "47\n",
      "f\n",
      "49\n",
      "fb\n"
     ]
    }
   ],
   "source": [
    "for i in range(1,51):\n",
    "    if i % 2 == 0 and i%5==0:\n",
    "        print(\"fb\")\n",
    "    elif i%3==0:\n",
    "        print(\"f\")\n",
    "    elif i%5==0:\n",
    "        print(\"b\")\n",
    "    else :\n",
    "        print(i)"
   ]
  },
  {
   "cell_type": "code",
   "execution_count": null,
   "id": "131972b3-e83d-434d-b14e-a96f160b67ab",
   "metadata": {},
   "outputs": [],
   "source": []
  }
 ],
 "metadata": {
  "kernelspec": {
   "display_name": "Python 3 (ipykernel)",
   "language": "python",
   "name": "python3"
  },
  "language_info": {
   "codemirror_mode": {
    "name": "ipython",
    "version": 3
   },
   "file_extension": ".py",
   "mimetype": "text/x-python",
   "name": "python",
   "nbconvert_exporter": "python",
   "pygments_lexer": "ipython3",
   "version": "3.11.5"
  }
 },
 "nbformat": 4,
 "nbformat_minor": 5
}
