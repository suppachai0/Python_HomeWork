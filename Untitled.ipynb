{
 "cells": [
  {
   "cell_type": "code",
   "execution_count": 7,
   "id": "8e1065ed-1037-4348-86ad-f7bd33bbfe24",
   "metadata": {},
   "outputs": [
    {
     "name": "stdin",
     "output_type": "stream",
     "text": [
      "name osdmks\n"
     ]
    },
    {
     "name": "stdout",
     "output_type": "stream",
     "text": [
      "Henllo osdmks\n"
     ]
    }
   ],
   "source": [
    "a = input (\"name\")\n",
    "print (\"Henllo {}\".format(a))"
   ]
  },
  {
   "cell_type": "code",
   "execution_count": 27,
   "id": "58c55497-62ab-47b0-9bb8-bfb3fcd6c3c5",
   "metadata": {
    "tags": []
   },
   "outputs": [
    {
     "name": "stdout",
     "output_type": "stream",
     "text": [
      "pi : 3.142\n"
     ]
    }
   ],
   "source": [
    "pi = 3.1416\n",
    "print (\"pi : {0:.3f}\".format(pi))"
   ]
  },
  {
   "cell_type": "code",
   "execution_count": 30,
   "id": "baab67aa-df68-49e5-94d2-ee2f5339c7d9",
   "metadata": {
    "tags": []
   },
   "outputs": [
    {
     "name": "stdout",
     "output_type": "stream",
     "text": [
      "hi dasd;lda is hsakfad fo asdhfhsaff\n"
     ]
    }
   ],
   "source": [
    "print (\"hi {0} is {2} fo {1}\".format(\"dasd;lda\",\"asdhfhsaff\",\"hsakfad\"))"
   ]
  },
  {
   "cell_type": "code",
   "execution_count": 31,
   "id": "c0a277e1-36b5-45ff-90cb-c0f31cc9fc00",
   "metadata": {
    "tags": []
   },
   "outputs": [
    {
     "name": "stdin",
     "output_type": "stream",
     "text": [
      "name fail\n",
      "age 19\n"
     ]
    },
    {
     "name": "stdout",
     "output_type": "stream",
     "text": [
      "สวัดดีfailคุณอายุ19ไช้ใหม\n"
     ]
    }
   ],
   "source": [
    "a = input (\"name\")\n",
    "b = input (\"age\")\n",
    "print (\"สวัดดี{}คุณอายุ{}ไช้ใหม\".format(a , b))"
   ]
  },
  {
   "cell_type": "code",
   "execution_count": 34,
   "id": "88ac6464-a7c2-485f-914c-28702dac70e9",
   "metadata": {
    "tags": []
   },
   "outputs": [
    {
     "name": "stdin",
     "output_type": "stream",
     "text": [
      "คะแนน: 68\n"
     ]
    },
    {
     "name": "stdout",
     "output_type": "stream",
     "text": [
      "เกลด C\n"
     ]
    }
   ],
   "source": [
    "g = int (input(\"คะแนน:\"))\n",
    "if g >= 80:\n",
    "    print (\"เกลด A\")\n",
    "elif g >= 70:\n",
    "    print (\"เกลด B\")\n",
    "elif g >= 60:\n",
    "    print (\"เกลด C\")\n",
    "elif g >= 50:\n",
    "    print (\"เกลด D\")\n",
    "else :\n",
    "    print (\"เกลด E\")\n"
   ]
  },
  {
   "cell_type": "code",
   "execution_count": 40,
   "id": "326e3398-5dbf-4ccd-b3d4-1e0f4e2e5d39",
   "metadata": {
    "tags": []
   },
   "outputs": [
    {
     "name": "stdin",
     "output_type": "stream",
     "text": [
      "number: 43\n"
     ]
    },
    {
     "name": "stdout",
     "output_type": "stream",
     "text": [
      "1.6334684555795864\n"
     ]
    }
   ],
   "source": [
    "a = int(input(\"number:\")) \n",
    "result = math.log10(a)\n",
    "print(result)"
   ]
  },
  {
   "cell_type": "code",
   "execution_count": null,
   "id": "6b538903-d263-4c3a-8d3a-588c6ec0e137",
   "metadata": {},
   "outputs": [],
   "source": []
  }
 ],
 "metadata": {
  "kernelspec": {
   "display_name": "Python 3 (ipykernel)",
   "language": "python",
   "name": "python3"
  },
  "language_info": {
   "codemirror_mode": {
    "name": "ipython",
    "version": 3
   },
   "file_extension": ".py",
   "mimetype": "text/x-python",
   "name": "python",
   "nbconvert_exporter": "python",
   "pygments_lexer": "ipython3",
   "version": "3.11.5"
  }
 },
 "nbformat": 4,
 "nbformat_minor": 5
}
